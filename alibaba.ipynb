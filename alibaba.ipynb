{
 "cells": [
  {
   "cell_type": "code",
   "execution_count": 1,
   "id": "8159026f",
   "metadata": {
    "execution": {
     "iopub.execute_input": "2025-06-10T20:22:25.596334Z",
     "iopub.status.busy": "2025-06-10T20:22:25.596037Z",
     "iopub.status.idle": "2025-06-10T20:22:28.175104Z",
     "shell.execute_reply": "2025-06-10T20:22:28.174566Z"
    },
    "papermill": {
     "duration": 2.585962,
     "end_time": "2025-06-10T20:22:28.176453",
     "exception": false,
     "start_time": "2025-06-10T20:22:25.590491",
     "status": "completed"
    },
    "tags": []
   },
   "outputs": [],
   "source": [
    "import pandas as pd\n",
    "import numpy as np\n",
    "from sklearn.preprocessing import LabelEncoder, StandardScaler\n"
   ]
  },
  {
   "cell_type": "code",
   "execution_count": 2,
   "id": "b17de61c",
   "metadata": {
    "execution": {
     "iopub.execute_input": "2025-06-10T20:22:28.185568Z",
     "iopub.status.busy": "2025-06-10T20:22:28.185084Z",
     "iopub.status.idle": "2025-06-10T20:22:29.886544Z",
     "shell.execute_reply": "2025-06-10T20:22:29.885740Z"
    },
    "papermill": {
     "duration": 1.706986,
     "end_time": "2025-06-10T20:22:29.887728",
     "exception": false,
     "start_time": "2025-06-10T20:22:28.180742",
     "status": "completed"
    },
    "tags": []
   },
   "outputs": [
    {
     "name": "stdout",
     "output_type": "stream",
     "text": [
      "(257673, 45)\n"
     ]
    }
   ],
   "source": [
    "# Replace with your actual file paths\n",
    "train_path = '/kaggle/input/idsdataset/UNSW_NB15_training-set.csv'\n",
    "test_path = '/kaggle/input/idsdataset/UNSW_NB15_testing-set.csv'\n",
    "\n",
    "df_train = pd.read_csv(train_path)\n",
    "df_test = pd.read_csv(test_path)\n",
    "df_all = pd.concat([df_train, df_test], axis=0).reset_index(drop=True)\n",
    "print(df_all.shape)"
   ]
  },
  {
   "cell_type": "code",
   "execution_count": 3,
   "id": "c7d1fb97",
   "metadata": {
    "execution": {
     "iopub.execute_input": "2025-06-10T20:22:29.896576Z",
     "iopub.status.busy": "2025-06-10T20:22:29.896362Z",
     "iopub.status.idle": "2025-06-10T20:22:29.979954Z",
     "shell.execute_reply": "2025-06-10T20:22:29.978970Z"
    },
    "papermill": {
     "duration": 0.089491,
     "end_time": "2025-06-10T20:22:29.981286",
     "exception": false,
     "start_time": "2025-06-10T20:22:29.891795",
     "status": "completed"
    },
    "tags": []
   },
   "outputs": [
    {
     "name": "stdout",
     "output_type": "stream",
     "text": [
      "<class 'pandas.core.frame.DataFrame'>\n",
      "RangeIndex: 257673 entries, 0 to 257672\n",
      "Data columns (total 45 columns):\n",
      " #   Column             Non-Null Count   Dtype  \n",
      "---  ------             --------------   -----  \n",
      " 0   id                 257673 non-null  int64  \n",
      " 1   dur                257673 non-null  float64\n",
      " 2   proto              257673 non-null  object \n",
      " 3   service            257673 non-null  object \n",
      " 4   state              257673 non-null  object \n",
      " 5   spkts              257673 non-null  int64  \n",
      " 6   dpkts              257673 non-null  int64  \n",
      " 7   sbytes             257673 non-null  int64  \n",
      " 8   dbytes             257673 non-null  int64  \n",
      " 9   rate               257673 non-null  float64\n",
      " 10  sttl               257673 non-null  int64  \n",
      " 11  dttl               257673 non-null  int64  \n",
      " 12  sload              257673 non-null  float64\n",
      " 13  dload              257673 non-null  float64\n",
      " 14  sloss              257673 non-null  int64  \n",
      " 15  dloss              257673 non-null  int64  \n",
      " 16  sinpkt             257673 non-null  float64\n",
      " 17  dinpkt             257673 non-null  float64\n",
      " 18  sjit               257673 non-null  float64\n",
      " 19  djit               257673 non-null  float64\n",
      " 20  swin               257673 non-null  int64  \n",
      " 21  stcpb              257673 non-null  int64  \n",
      " 22  dtcpb              257673 non-null  int64  \n",
      " 23  dwin               257673 non-null  int64  \n",
      " 24  tcprtt             257673 non-null  float64\n",
      " 25  synack             257673 non-null  float64\n",
      " 26  ackdat             257673 non-null  float64\n",
      " 27  smean              257673 non-null  int64  \n",
      " 28  dmean              257673 non-null  int64  \n",
      " 29  trans_depth        257673 non-null  int64  \n",
      " 30  response_body_len  257673 non-null  int64  \n",
      " 31  ct_srv_src         257673 non-null  int64  \n",
      " 32  ct_state_ttl       257673 non-null  int64  \n",
      " 33  ct_dst_ltm         257673 non-null  int64  \n",
      " 34  ct_src_dport_ltm   257673 non-null  int64  \n",
      " 35  ct_dst_sport_ltm   257673 non-null  int64  \n",
      " 36  ct_dst_src_ltm     257673 non-null  int64  \n",
      " 37  is_ftp_login       257673 non-null  int64  \n",
      " 38  ct_ftp_cmd         257673 non-null  int64  \n",
      " 39  ct_flw_http_mthd   257673 non-null  int64  \n",
      " 40  ct_src_ltm         257673 non-null  int64  \n",
      " 41  ct_srv_dst         257673 non-null  int64  \n",
      " 42  is_sm_ips_ports    257673 non-null  int64  \n",
      " 43  attack_cat         257673 non-null  object \n",
      " 44  label              257673 non-null  int64  \n",
      "dtypes: float64(11), int64(30), object(4)\n",
      "memory usage: 88.5+ MB\n",
      "None\n"
     ]
    }
   ],
   "source": [
    "print(df_all.info())"
   ]
  },
  {
   "cell_type": "code",
   "execution_count": 4,
   "id": "6750b812",
   "metadata": {
    "execution": {
     "iopub.execute_input": "2025-06-10T20:22:29.990906Z",
     "iopub.status.busy": "2025-06-10T20:22:29.990665Z",
     "iopub.status.idle": "2025-06-10T20:22:30.302243Z",
     "shell.execute_reply": "2025-06-10T20:22:30.301226Z"
    },
    "papermill": {
     "duration": 0.318059,
     "end_time": "2025-06-10T20:22:30.303489",
     "exception": false,
     "start_time": "2025-06-10T20:22:29.985430",
     "status": "completed"
    },
    "tags": []
   },
   "outputs": [
    {
     "name": "stdout",
     "output_type": "stream",
     "text": [
      "                  id            dur          spkts          dpkts  \\\n",
      "count  257673.000000  257673.000000  257673.000000  257673.000000   \n",
      "mean    72811.823858       1.246715      19.777144      18.514703   \n",
      "std     48929.917641       5.974305     135.947152     111.985965   \n",
      "min         1.000000       0.000000       1.000000       0.000000   \n",
      "25%     32210.000000       0.000008       2.000000       0.000000   \n",
      "50%     64419.000000       0.004285       4.000000       2.000000   \n",
      "75%    110923.000000       0.685777      12.000000      10.000000   \n",
      "max    175341.000000      59.999989   10646.000000   11018.000000   \n",
      "\n",
      "             sbytes        dbytes          rate           sttl           dttl  \\\n",
      "count  2.576730e+05  2.576730e+05  2.576730e+05  257673.000000  257673.000000   \n",
      "mean   8.572952e+03  1.438729e+04  9.125391e+04     180.000931      84.754957   \n",
      "std    1.737739e+05  1.461993e+05  1.603446e+05     102.488268     112.762131   \n",
      "min    2.400000e+01  0.000000e+00  0.000000e+00       0.000000       0.000000   \n",
      "25%    1.140000e+02  0.000000e+00  3.078928e+01      62.000000       0.000000   \n",
      "50%    5.280000e+02  1.780000e+02  2.955665e+03     254.000000      29.000000   \n",
      "75%    1.362000e+03  1.064000e+03  1.250000e+05     254.000000     252.000000   \n",
      "max    1.435577e+07  1.465753e+07  1.000000e+06     255.000000     254.000000   \n",
      "\n",
      "              sload  ...  ct_src_dport_ltm  ct_dst_sport_ltm  ct_dst_src_ltm  \\\n",
      "count  2.576730e+05  ...     257673.000000     257673.000000   257673.000000   \n",
      "mean   7.060869e+07  ...          5.238271          4.032677        8.322964   \n",
      "std    1.857313e+08  ...          8.160822          5.831515       11.120754   \n",
      "min    0.000000e+00  ...          1.000000          1.000000        1.000000   \n",
      "25%    1.231800e+04  ...          1.000000          1.000000        1.000000   \n",
      "50%    7.439423e+05  ...          1.000000          1.000000        3.000000   \n",
      "75%    8.000000e+07  ...          4.000000          3.000000        8.000000   \n",
      "max    5.988000e+09  ...         59.000000         46.000000       65.000000   \n",
      "\n",
      "        is_ftp_login     ct_ftp_cmd  ct_flw_http_mthd     ct_src_ltm  \\\n",
      "count  257673.000000  257673.000000     257673.000000  257673.000000   \n",
      "mean        0.012819       0.012850          0.132005       6.800045   \n",
      "std         0.116091       0.116421          0.681854       8.396266   \n",
      "min         0.000000       0.000000          0.000000       1.000000   \n",
      "25%         0.000000       0.000000          0.000000       2.000000   \n",
      "50%         0.000000       0.000000          0.000000       3.000000   \n",
      "75%         0.000000       0.000000          0.000000       8.000000   \n",
      "max         4.000000       4.000000         30.000000      60.000000   \n",
      "\n",
      "          ct_srv_dst  is_sm_ips_ports          label  \n",
      "count  257673.000000    257673.000000  257673.000000  \n",
      "mean        9.121049         0.014274       0.639077  \n",
      "std        10.874752         0.118618       0.480269  \n",
      "min         1.000000         0.000000       0.000000  \n",
      "25%         2.000000         0.000000       0.000000  \n",
      "50%         4.000000         0.000000       1.000000  \n",
      "75%        11.000000         0.000000       1.000000  \n",
      "max        62.000000         1.000000       1.000000  \n",
      "\n",
      "[8 rows x 41 columns]\n"
     ]
    }
   ],
   "source": [
    "print(df_all.describe())"
   ]
  },
  {
   "cell_type": "code",
   "execution_count": 5,
   "id": "5524e6f7",
   "metadata": {
    "execution": {
     "iopub.execute_input": "2025-06-10T20:22:30.312723Z",
     "iopub.status.busy": "2025-06-10T20:22:30.312513Z",
     "iopub.status.idle": "2025-06-10T20:22:30.316557Z",
     "shell.execute_reply": "2025-06-10T20:22:30.315743Z"
    },
    "papermill": {
     "duration": 0.009887,
     "end_time": "2025-06-10T20:22:30.317648",
     "exception": false,
     "start_time": "2025-06-10T20:22:30.307761",
     "status": "completed"
    },
    "tags": []
   },
   "outputs": [
    {
     "name": "stdout",
     "output_type": "stream",
     "text": [
      "Index(['id', 'dur', 'proto', 'service', 'state', 'spkts', 'dpkts', 'sbytes',\n",
      "       'dbytes', 'rate', 'sttl', 'dttl', 'sload', 'dload', 'sloss', 'dloss',\n",
      "       'sinpkt', 'dinpkt', 'sjit', 'djit', 'swin', 'stcpb', 'dtcpb', 'dwin',\n",
      "       'tcprtt', 'synack', 'ackdat', 'smean', 'dmean', 'trans_depth',\n",
      "       'response_body_len', 'ct_srv_src', 'ct_state_ttl', 'ct_dst_ltm',\n",
      "       'ct_src_dport_ltm', 'ct_dst_sport_ltm', 'ct_dst_src_ltm',\n",
      "       'is_ftp_login', 'ct_ftp_cmd', 'ct_flw_http_mthd', 'ct_src_ltm',\n",
      "       'ct_srv_dst', 'is_sm_ips_ports', 'attack_cat', 'label'],\n",
      "      dtype='object')\n"
     ]
    }
   ],
   "source": [
    "print(df_all.columns)"
   ]
  },
  {
   "cell_type": "code",
   "execution_count": 6,
   "id": "edae2ab2",
   "metadata": {
    "execution": {
     "iopub.execute_input": "2025-06-10T20:22:30.326593Z",
     "iopub.status.busy": "2025-06-10T20:22:30.326371Z",
     "iopub.status.idle": "2025-06-10T20:22:30.351529Z",
     "shell.execute_reply": "2025-06-10T20:22:30.350562Z"
    },
    "papermill": {
     "duration": 0.031024,
     "end_time": "2025-06-10T20:22:30.352694",
     "exception": false,
     "start_time": "2025-06-10T20:22:30.321670",
     "status": "completed"
    },
    "tags": []
   },
   "outputs": [
    {
     "name": "stdout",
     "output_type": "stream",
     "text": [
      "label\n",
      "1    164673\n",
      "0     93000\n",
      "Name: count, dtype: int64\n",
      "attack_cat\n",
      "Normal            93000\n",
      "Generic           58871\n",
      "Exploits          44525\n",
      "Fuzzers           24246\n",
      "DoS               16353\n",
      "Reconnaissance    13987\n",
      "Analysis           2677\n",
      "Backdoor           2329\n",
      "Shellcode          1511\n",
      "Worms               174\n",
      "Name: count, dtype: int64\n"
     ]
    }
   ],
   "source": [
    "print(df_all['label'].value_counts())\n",
    "print(df_all['attack_cat'].value_counts())  # Optional: for multiclass\n"
   ]
  },
  {
   "cell_type": "code",
   "execution_count": 7,
   "id": "aaeace79",
   "metadata": {
    "execution": {
     "iopub.execute_input": "2025-06-10T20:22:30.362099Z",
     "iopub.status.busy": "2025-06-10T20:22:30.361893Z",
     "iopub.status.idle": "2025-06-10T20:22:30.386300Z",
     "shell.execute_reply": "2025-06-10T20:22:30.385543Z"
    },
    "papermill": {
     "duration": 0.030379,
     "end_time": "2025-06-10T20:22:30.387500",
     "exception": false,
     "start_time": "2025-06-10T20:22:30.357121",
     "status": "completed"
    },
    "tags": []
   },
   "outputs": [],
   "source": [
    "cols_to_drop = ['id', 'attack_cat', 'label']\n",
    "X_all = df_all.drop(columns=cols_to_drop)\n",
    "y_all = df_all['label']\n",
    "\n"
   ]
  },
  {
   "cell_type": "code",
   "execution_count": 8,
   "id": "f7e285ab",
   "metadata": {
    "execution": {
     "iopub.execute_input": "2025-06-10T20:22:30.396171Z",
     "iopub.status.busy": "2025-06-10T20:22:30.395977Z",
     "iopub.status.idle": "2025-06-10T20:22:30.409821Z",
     "shell.execute_reply": "2025-06-10T20:22:30.409296Z"
    },
    "papermill": {
     "duration": 0.01936,
     "end_time": "2025-06-10T20:22:30.410896",
     "exception": false,
     "start_time": "2025-06-10T20:22:30.391536",
     "status": "completed"
    },
    "tags": []
   },
   "outputs": [
    {
     "data": {
      "text/plain": [
       "array(['FIN', 'INT', 'CON', 'ECO', 'REQ', 'RST', 'PAR', 'URN', 'no',\n",
       "       'ACC', 'CLO'], dtype=object)"
      ]
     },
     "execution_count": 8,
     "metadata": {},
     "output_type": "execute_result"
    }
   ],
   "source": [
    "df_all['state'].unique()"
   ]
  },
  {
   "cell_type": "code",
   "execution_count": 9,
   "id": "9c967f2f",
   "metadata": {
    "execution": {
     "iopub.execute_input": "2025-06-10T20:22:30.419779Z",
     "iopub.status.busy": "2025-06-10T20:22:30.419551Z",
     "iopub.status.idle": "2025-06-10T20:22:30.429924Z",
     "shell.execute_reply": "2025-06-10T20:22:30.429404Z"
    },
    "papermill": {
     "duration": 0.015982,
     "end_time": "2025-06-10T20:22:30.430988",
     "exception": false,
     "start_time": "2025-06-10T20:22:30.415006",
     "status": "completed"
    },
    "tags": []
   },
   "outputs": [
    {
     "data": {
      "text/plain": [
       "array(['-', 'ftp', 'smtp', 'snmp', 'http', 'ftp-data', 'dns', 'ssh',\n",
       "       'radius', 'pop3', 'dhcp', 'ssl', 'irc'], dtype=object)"
      ]
     },
     "execution_count": 9,
     "metadata": {},
     "output_type": "execute_result"
    }
   ],
   "source": [
    "df_train['service'].unique()"
   ]
  },
  {
   "cell_type": "code",
   "execution_count": 10,
   "id": "915546d8",
   "metadata": {
    "execution": {
     "iopub.execute_input": "2025-06-10T20:22:30.440214Z",
     "iopub.status.busy": "2025-06-10T20:22:30.440016Z",
     "iopub.status.idle": "2025-06-10T20:22:30.450368Z",
     "shell.execute_reply": "2025-06-10T20:22:30.449800Z"
    },
    "papermill": {
     "duration": 0.015916,
     "end_time": "2025-06-10T20:22:30.451434",
     "exception": false,
     "start_time": "2025-06-10T20:22:30.435518",
     "status": "completed"
    },
    "tags": []
   },
   "outputs": [
    {
     "data": {
      "text/plain": [
       "array(['tcp', 'udp', 'arp', 'ospf', 'icmp', 'igmp', 'rtp', 'ddp',\n",
       "       'ipv6-frag', 'cftp', 'wsn', 'pvp', 'wb-expak', 'mtp', 'pri-enc',\n",
       "       'sat-mon', 'cphb', 'sun-nd', 'iso-ip', 'xtp', 'il', 'unas',\n",
       "       'mfe-nsp', '3pc', 'ipv6-route', 'idrp', 'bna', 'swipe',\n",
       "       'kryptolan', 'cpnx', 'rsvp', 'wb-mon', 'vmtp', 'ib', 'dgp',\n",
       "       'eigrp', 'ax.25', 'gmtp', 'pnni', 'sep', 'pgm', 'idpr-cmtp',\n",
       "       'zero', 'rvd', 'mobile', 'narp', 'fc', 'pipe', 'ipcomp', 'ipv6-no',\n",
       "       'sat-expak', 'ipv6-opts', 'snp', 'ipcv', 'br-sat-mon', 'ttp',\n",
       "       'tcf', 'nsfnet-igp', 'sprite-rpc', 'aes-sp3-d', 'sccopmce', 'sctp',\n",
       "       'qnx', 'scps', 'etherip', 'aris', 'pim', 'compaq-peer', 'vrrp',\n",
       "       'iatp', 'stp', 'l2tp', 'srp', 'sm', 'isis', 'smp', 'fire', 'ptp',\n",
       "       'crtp', 'sps', 'merit-inp', 'idpr', 'skip', 'any', 'larp', 'ipip',\n",
       "       'micp', 'encap', 'ifmp', 'tp++', 'a/n', 'ipv6', 'i-nlsp',\n",
       "       'ipx-n-ip', 'sdrp', 'tlsp', 'gre', 'mhrp', 'ddx', 'ippc', 'visa',\n",
       "       'secure-vmtp', 'uti', 'vines', 'crudp', 'iplt', 'ggp', 'ip',\n",
       "       'ipnip', 'st2', 'argus', 'bbn-rcc', 'egp', 'emcon', 'igp', 'nvp',\n",
       "       'pup', 'xnet', 'chaos', 'mux', 'dcn', 'hmp', 'prm', 'trunk-1',\n",
       "       'xns-idp', 'leaf-1', 'leaf-2', 'rdp', 'irtp', 'iso-tp4', 'netblt',\n",
       "       'trunk-2', 'cbt'], dtype=object)"
      ]
     },
     "execution_count": 10,
     "metadata": {},
     "output_type": "execute_result"
    }
   ],
   "source": [
    "df_train['proto'].unique()"
   ]
  },
  {
   "cell_type": "code",
   "execution_count": 11,
   "id": "5984baf1",
   "metadata": {
    "execution": {
     "iopub.execute_input": "2025-06-10T20:22:30.460515Z",
     "iopub.status.busy": "2025-06-10T20:22:30.460305Z",
     "iopub.status.idle": "2025-06-10T20:22:30.465799Z",
     "shell.execute_reply": "2025-06-10T20:22:30.465320Z"
    },
    "papermill": {
     "duration": 0.011215,
     "end_time": "2025-06-10T20:22:30.466810",
     "exception": false,
     "start_time": "2025-06-10T20:22:30.455595",
     "status": "completed"
    },
    "tags": []
   },
   "outputs": [],
   "source": [
    "service_categories =['-', 'ftp', 'smtp', 'snmp', 'http', 'ftp-data', 'dns', 'ssh',\n",
    "       'radius', 'pop3', 'dhcp', 'ssl', 'irc']\n",
    "\n",
    "proto_categories = ['tcp', 'udp', 'arp', 'ospf', 'icmp', 'igmp', 'rtp', 'ddp',\n",
    "       'ipv6-frag', 'cftp', 'wsn', 'pvp', 'wb-expak', 'mtp', 'pri-enc',\n",
    "       'sat-mon', 'cphb', 'sun-nd', 'iso-ip', 'xtp', 'il', 'unas',\n",
    "       'mfe-nsp', '3pc', 'ipv6-route', 'idrp', 'bna', 'swipe',\n",
    "       'kryptolan', 'cpnx', 'rsvp', 'wb-mon', 'vmtp', 'ib', 'dgp',\n",
    "       'eigrp', 'ax.25', 'gmtp', 'pnni', 'sep', 'pgm', 'idpr-cmtp',\n",
    "       'zero', 'rvd', 'mobile', 'narp', 'fc', 'pipe', 'ipcomp', 'ipv6-no',\n",
    "       'sat-expak', 'ipv6-opts', 'snp', 'ipcv', 'br-sat-mon', 'ttp',\n",
    "       'tcf', 'nsfnet-igp', 'sprite-rpc', 'aes-sp3-d', 'sccopmce', 'sctp',\n",
    "       'qnx', 'scps', 'etherip', 'aris', 'pim', 'compaq-peer', 'vrrp',\n",
    "       'iatp', 'stp', 'l2tp', 'srp', 'sm', 'isis', 'smp', 'fire', 'ptp',\n",
    "       'crtp', 'sps', 'merit-inp', 'idpr', 'skip', 'any', 'larp', 'ipip',\n",
    "       'micp', 'encap', 'ifmp', 'tp++', 'a/n', 'ipv6', 'i-nlsp',\n",
    "       'ipx-n-ip', 'sdrp', 'tlsp', 'gre', 'mhrp', 'ddx', 'ippc', 'visa',\n",
    "       'secure-vmtp', 'uti', 'vines', 'crudp', 'iplt', 'ggp', 'ip',\n",
    "       'ipnip', 'st2', 'argus', 'bbn-rcc', 'egp', 'emcon', 'igp', 'nvp',\n",
    "       'pup', 'xnet', 'chaos', 'mux', 'dcn', 'hmp', 'prm', 'trunk-1',\n",
    "       'xns-idp', 'leaf-1', 'leaf-2', 'rdp', 'irtp', 'iso-tp4', 'netblt',\n",
    "       'trunk-2', 'cbt']\n",
    "\n",
    "state_categories = ['no', 'FIN', 'INT', 'CON', 'ECO', 'REQ', 'RST', 'PAR', 'URN', 'CLO', 'ACC']\n",
    "\n"
   ]
  },
  {
   "cell_type": "code",
   "execution_count": 12,
   "id": "932f8d5b",
   "metadata": {
    "execution": {
     "iopub.execute_input": "2025-06-10T20:22:30.476150Z",
     "iopub.status.busy": "2025-06-10T20:22:30.475954Z",
     "iopub.status.idle": "2025-06-10T20:22:30.478778Z",
     "shell.execute_reply": "2025-06-10T20:22:30.478313Z"
    },
    "papermill": {
     "duration": 0.008594,
     "end_time": "2025-06-10T20:22:30.479766",
     "exception": false,
     "start_time": "2025-06-10T20:22:30.471172",
     "status": "completed"
    },
    "tags": []
   },
   "outputs": [],
   "source": [
    "categorical_cols = ['proto', 'service', 'state']\n",
    "all_categories = [proto_categories, service_categories, state_categories]\n"
   ]
  },
  {
   "cell_type": "code",
   "execution_count": 13,
   "id": "bc0c6a9e",
   "metadata": {
    "execution": {
     "iopub.execute_input": "2025-06-10T20:22:30.488814Z",
     "iopub.status.busy": "2025-06-10T20:22:30.488623Z",
     "iopub.status.idle": "2025-06-10T20:22:30.636190Z",
     "shell.execute_reply": "2025-06-10T20:22:30.635637Z"
    },
    "papermill": {
     "duration": 0.153569,
     "end_time": "2025-06-10T20:22:30.637483",
     "exception": false,
     "start_time": "2025-06-10T20:22:30.483914",
     "status": "completed"
    },
    "tags": []
   },
   "outputs": [],
   "source": [
    "from sklearn.preprocessing import OrdinalEncoder\n",
    "\n",
    "oe = OrdinalEncoder(categories=all_categories)\n",
    "X_all[categorical_cols] = oe.fit_transform(X_all[categorical_cols])\n"
   ]
  },
  {
   "cell_type": "code",
   "execution_count": 14,
   "id": "4e3c8221",
   "metadata": {
    "execution": {
     "iopub.execute_input": "2025-06-10T20:22:30.647254Z",
     "iopub.status.busy": "2025-06-10T20:22:30.647044Z",
     "iopub.status.idle": "2025-06-10T20:22:30.887101Z",
     "shell.execute_reply": "2025-06-10T20:22:30.886506Z"
    },
    "papermill": {
     "duration": 0.246206,
     "end_time": "2025-06-10T20:22:30.888489",
     "exception": false,
     "start_time": "2025-06-10T20:22:30.642283",
     "status": "completed"
    },
    "tags": []
   },
   "outputs": [],
   "source": [
    "from sklearn.preprocessing import StandardScaler\n",
    "\n",
    "scaler = StandardScaler()\n",
    "X_all_scaled = scaler.fit_transform(X_all)\n"
   ]
  },
  {
   "cell_type": "code",
   "execution_count": null,
   "id": "97df4ca4",
   "metadata": {
    "execution": {
     "iopub.execute_input": "2025-06-10T19:43:53.064947Z",
     "iopub.status.busy": "2025-06-10T19:43:53.064361Z",
     "iopub.status.idle": "2025-06-10T19:43:53.079349Z",
     "shell.execute_reply": "2025-06-10T19:43:53.078478Z",
     "shell.execute_reply.started": "2025-06-10T19:43:53.064922Z"
    },
    "papermill": {
     "duration": 0.003968,
     "end_time": "2025-06-10T20:22:30.897085",
     "exception": false,
     "start_time": "2025-06-10T20:22:30.893117",
     "status": "completed"
    },
    "tags": []
   },
   "outputs": [],
   "source": []
  },
  {
   "cell_type": "code",
   "execution_count": 15,
   "id": "0d11153c",
   "metadata": {
    "execution": {
     "iopub.execute_input": "2025-06-10T20:22:30.906044Z",
     "iopub.status.busy": "2025-06-10T20:22:30.905823Z",
     "iopub.status.idle": "2025-06-10T20:22:30.909630Z",
     "shell.execute_reply": "2025-06-10T20:22:30.908915Z"
    },
    "papermill": {
     "duration": 0.00951,
     "end_time": "2025-06-10T20:22:30.910745",
     "exception": false,
     "start_time": "2025-06-10T20:22:30.901235",
     "status": "completed"
    },
    "tags": []
   },
   "outputs": [
    {
     "name": "stdout",
     "output_type": "stream",
     "text": [
      "All features scaled, shape: (257673, 42)\n"
     ]
    }
   ],
   "source": [
    "print(\"All features scaled, shape:\", X_all_scaled.shape)"
   ]
  },
  {
   "cell_type": "code",
   "execution_count": 16,
   "id": "f9b3af1e",
   "metadata": {
    "execution": {
     "iopub.execute_input": "2025-06-10T20:22:30.919759Z",
     "iopub.status.busy": "2025-06-10T20:22:30.919529Z",
     "iopub.status.idle": "2025-06-10T20:22:30.923242Z",
     "shell.execute_reply": "2025-06-10T20:22:30.922587Z"
    },
    "papermill": {
     "duration": 0.009253,
     "end_time": "2025-06-10T20:22:30.924248",
     "exception": false,
     "start_time": "2025-06-10T20:22:30.914995",
     "status": "completed"
    },
    "tags": []
   },
   "outputs": [
    {
     "name": "stdout",
     "output_type": "stream",
     "text": [
      "y_all shape: (257673,)\n"
     ]
    }
   ],
   "source": [
    "print(\"y_all shape:\", y_all.shape)"
   ]
  },
  {
   "cell_type": "code",
   "execution_count": 17,
   "id": "86ed7b66",
   "metadata": {
    "execution": {
     "iopub.execute_input": "2025-06-10T20:22:30.933491Z",
     "iopub.status.busy": "2025-06-10T20:22:30.933294Z",
     "iopub.status.idle": "2025-06-10T20:22:30.946445Z",
     "shell.execute_reply": "2025-06-10T20:22:30.945718Z"
    },
    "papermill": {
     "duration": 0.018935,
     "end_time": "2025-06-10T20:22:30.947465",
     "exception": false,
     "start_time": "2025-06-10T20:22:30.928530",
     "status": "completed"
    },
    "tags": []
   },
   "outputs": [
    {
     "name": "stdout",
     "output_type": "stream",
     "text": [
      "Unique values per categorical after encoding:\n",
      "proto [0.0, 1.0, 2.0, 3.0, 4.0, 5.0, 6.0, 7.0, 8.0, 9.0, 10.0, 11.0, 12.0, 13.0, 14.0, 15.0, 16.0, 17.0, 18.0, 19.0, 20.0, 21.0, 22.0, 23.0, 24.0, 25.0, 26.0, 27.0, 28.0, 29.0, 30.0, 31.0, 32.0, 33.0, 34.0, 35.0, 36.0, 37.0, 38.0, 39.0, 40.0, 41.0, 42.0, 43.0, 44.0, 45.0, 46.0, 47.0, 48.0, 49.0, 50.0, 51.0, 52.0, 53.0, 54.0, 55.0, 56.0, 57.0, 58.0, 59.0, 60.0, 61.0, 62.0, 63.0, 64.0, 65.0, 66.0, 67.0, 68.0, 69.0, 70.0, 71.0, 72.0, 73.0, 74.0, 75.0, 76.0, 77.0, 78.0, 79.0, 80.0, 81.0, 82.0, 83.0, 84.0, 85.0, 86.0, 87.0, 88.0, 89.0, 90.0, 91.0, 92.0, 93.0, 94.0, 95.0, 96.0, 97.0, 98.0, 99.0, 100.0, 101.0, 102.0, 103.0, 104.0, 105.0, 106.0, 107.0, 108.0, 109.0, 110.0, 111.0, 112.0, 113.0, 114.0, 115.0, 116.0, 117.0, 118.0, 119.0, 120.0, 121.0, 122.0, 123.0, 124.0, 125.0, 126.0, 127.0, 128.0, 129.0, 130.0, 131.0, 132.0]\n",
      "service [0.0, 1.0, 2.0, 3.0, 4.0, 5.0, 6.0, 7.0, 8.0, 9.0, 10.0, 11.0, 12.0]\n",
      "state [0.0, 1.0, 2.0, 3.0, 4.0, 5.0, 6.0, 7.0, 8.0, 9.0, 10.0]\n"
     ]
    }
   ],
   "source": [
    "print(\"Unique values per categorical after encoding:\")\n",
    "for col in categorical_cols:\n",
    "    print(col, sorted(X_all[col].unique()))"
   ]
  },
  {
   "cell_type": "code",
   "execution_count": 18,
   "id": "46dc4403",
   "metadata": {
    "execution": {
     "iopub.execute_input": "2025-06-10T20:22:30.956874Z",
     "iopub.status.busy": "2025-06-10T20:22:30.956680Z",
     "iopub.status.idle": "2025-06-10T20:22:30.976500Z",
     "shell.execute_reply": "2025-06-10T20:22:30.975899Z"
    },
    "papermill": {
     "duration": 0.025833,
     "end_time": "2025-06-10T20:22:30.977565",
     "exception": false,
     "start_time": "2025-06-10T20:22:30.951732",
     "status": "completed"
    },
    "tags": []
   },
   "outputs": [
    {
     "data": {
      "text/html": [
       "<div>\n",
       "<style scoped>\n",
       "    .dataframe tbody tr th:only-of-type {\n",
       "        vertical-align: middle;\n",
       "    }\n",
       "\n",
       "    .dataframe tbody tr th {\n",
       "        vertical-align: top;\n",
       "    }\n",
       "\n",
       "    .dataframe thead th {\n",
       "        text-align: right;\n",
       "    }\n",
       "</style>\n",
       "<table border=\"1\" class=\"dataframe\">\n",
       "  <thead>\n",
       "    <tr style=\"text-align: right;\">\n",
       "      <th></th>\n",
       "      <th>dur</th>\n",
       "      <th>proto</th>\n",
       "      <th>service</th>\n",
       "      <th>state</th>\n",
       "      <th>spkts</th>\n",
       "      <th>dpkts</th>\n",
       "      <th>sbytes</th>\n",
       "      <th>dbytes</th>\n",
       "      <th>rate</th>\n",
       "      <th>sttl</th>\n",
       "      <th>...</th>\n",
       "      <th>ct_dst_ltm</th>\n",
       "      <th>ct_src_dport_ltm</th>\n",
       "      <th>ct_dst_sport_ltm</th>\n",
       "      <th>ct_dst_src_ltm</th>\n",
       "      <th>is_ftp_login</th>\n",
       "      <th>ct_ftp_cmd</th>\n",
       "      <th>ct_flw_http_mthd</th>\n",
       "      <th>ct_src_ltm</th>\n",
       "      <th>ct_srv_dst</th>\n",
       "      <th>is_sm_ips_ports</th>\n",
       "    </tr>\n",
       "  </thead>\n",
       "  <tbody>\n",
       "    <tr>\n",
       "      <th>0</th>\n",
       "      <td>0.121478</td>\n",
       "      <td>0.0</td>\n",
       "      <td>0.0</td>\n",
       "      <td>1.0</td>\n",
       "      <td>6</td>\n",
       "      <td>4</td>\n",
       "      <td>258</td>\n",
       "      <td>172</td>\n",
       "      <td>74.087490</td>\n",
       "      <td>252</td>\n",
       "      <td>...</td>\n",
       "      <td>1</td>\n",
       "      <td>1</td>\n",
       "      <td>1</td>\n",
       "      <td>1</td>\n",
       "      <td>0</td>\n",
       "      <td>0</td>\n",
       "      <td>0</td>\n",
       "      <td>1</td>\n",
       "      <td>1</td>\n",
       "      <td>0</td>\n",
       "    </tr>\n",
       "    <tr>\n",
       "      <th>1</th>\n",
       "      <td>0.649902</td>\n",
       "      <td>0.0</td>\n",
       "      <td>0.0</td>\n",
       "      <td>1.0</td>\n",
       "      <td>14</td>\n",
       "      <td>38</td>\n",
       "      <td>734</td>\n",
       "      <td>42014</td>\n",
       "      <td>78.473372</td>\n",
       "      <td>62</td>\n",
       "      <td>...</td>\n",
       "      <td>1</td>\n",
       "      <td>1</td>\n",
       "      <td>1</td>\n",
       "      <td>2</td>\n",
       "      <td>0</td>\n",
       "      <td>0</td>\n",
       "      <td>0</td>\n",
       "      <td>1</td>\n",
       "      <td>6</td>\n",
       "      <td>0</td>\n",
       "    </tr>\n",
       "    <tr>\n",
       "      <th>2</th>\n",
       "      <td>1.623129</td>\n",
       "      <td>0.0</td>\n",
       "      <td>0.0</td>\n",
       "      <td>1.0</td>\n",
       "      <td>8</td>\n",
       "      <td>16</td>\n",
       "      <td>364</td>\n",
       "      <td>13186</td>\n",
       "      <td>14.170161</td>\n",
       "      <td>62</td>\n",
       "      <td>...</td>\n",
       "      <td>2</td>\n",
       "      <td>1</td>\n",
       "      <td>1</td>\n",
       "      <td>3</td>\n",
       "      <td>0</td>\n",
       "      <td>0</td>\n",
       "      <td>0</td>\n",
       "      <td>2</td>\n",
       "      <td>6</td>\n",
       "      <td>0</td>\n",
       "    </tr>\n",
       "    <tr>\n",
       "      <th>3</th>\n",
       "      <td>1.681642</td>\n",
       "      <td>0.0</td>\n",
       "      <td>1.0</td>\n",
       "      <td>1.0</td>\n",
       "      <td>12</td>\n",
       "      <td>12</td>\n",
       "      <td>628</td>\n",
       "      <td>770</td>\n",
       "      <td>13.677108</td>\n",
       "      <td>62</td>\n",
       "      <td>...</td>\n",
       "      <td>2</td>\n",
       "      <td>1</td>\n",
       "      <td>1</td>\n",
       "      <td>3</td>\n",
       "      <td>1</td>\n",
       "      <td>1</td>\n",
       "      <td>0</td>\n",
       "      <td>2</td>\n",
       "      <td>1</td>\n",
       "      <td>0</td>\n",
       "    </tr>\n",
       "    <tr>\n",
       "      <th>4</th>\n",
       "      <td>0.449454</td>\n",
       "      <td>0.0</td>\n",
       "      <td>0.0</td>\n",
       "      <td>1.0</td>\n",
       "      <td>10</td>\n",
       "      <td>6</td>\n",
       "      <td>534</td>\n",
       "      <td>268</td>\n",
       "      <td>33.373826</td>\n",
       "      <td>254</td>\n",
       "      <td>...</td>\n",
       "      <td>2</td>\n",
       "      <td>2</td>\n",
       "      <td>1</td>\n",
       "      <td>40</td>\n",
       "      <td>0</td>\n",
       "      <td>0</td>\n",
       "      <td>0</td>\n",
       "      <td>2</td>\n",
       "      <td>39</td>\n",
       "      <td>0</td>\n",
       "    </tr>\n",
       "  </tbody>\n",
       "</table>\n",
       "<p>5 rows × 42 columns</p>\n",
       "</div>"
      ],
      "text/plain": [
       "        dur  proto  service  state  spkts  dpkts  sbytes  dbytes       rate  \\\n",
       "0  0.121478    0.0      0.0    1.0      6      4     258     172  74.087490   \n",
       "1  0.649902    0.0      0.0    1.0     14     38     734   42014  78.473372   \n",
       "2  1.623129    0.0      0.0    1.0      8     16     364   13186  14.170161   \n",
       "3  1.681642    0.0      1.0    1.0     12     12     628     770  13.677108   \n",
       "4  0.449454    0.0      0.0    1.0     10      6     534     268  33.373826   \n",
       "\n",
       "   sttl  ...  ct_dst_ltm  ct_src_dport_ltm  ct_dst_sport_ltm  ct_dst_src_ltm  \\\n",
       "0   252  ...           1                 1                 1               1   \n",
       "1    62  ...           1                 1                 1               2   \n",
       "2    62  ...           2                 1                 1               3   \n",
       "3    62  ...           2                 1                 1               3   \n",
       "4   254  ...           2                 2                 1              40   \n",
       "\n",
       "   is_ftp_login  ct_ftp_cmd  ct_flw_http_mthd  ct_src_ltm  ct_srv_dst  \\\n",
       "0             0           0                 0           1           1   \n",
       "1             0           0                 0           1           6   \n",
       "2             0           0                 0           2           6   \n",
       "3             1           1                 0           2           1   \n",
       "4             0           0                 0           2          39   \n",
       "\n",
       "   is_sm_ips_ports  \n",
       "0                0  \n",
       "1                0  \n",
       "2                0  \n",
       "3                0  \n",
       "4                0  \n",
       "\n",
       "[5 rows x 42 columns]"
      ]
     },
     "execution_count": 18,
     "metadata": {},
     "output_type": "execute_result"
    }
   ],
   "source": [
    "X_all.head()"
   ]
  },
  {
   "cell_type": "code",
   "execution_count": 19,
   "id": "7241383b",
   "metadata": {
    "execution": {
     "iopub.execute_input": "2025-06-10T20:22:30.988551Z",
     "iopub.status.busy": "2025-06-10T20:22:30.988382Z",
     "iopub.status.idle": "2025-06-10T20:22:31.016668Z",
     "shell.execute_reply": "2025-06-10T20:22:31.015529Z"
    },
    "papermill": {
     "duration": 0.034816,
     "end_time": "2025-06-10T20:22:31.017786",
     "exception": false,
     "start_time": "2025-06-10T20:22:30.982970",
     "status": "completed"
    },
    "tags": []
   },
   "outputs": [
    {
     "name": "stdout",
     "output_type": "stream",
     "text": [
      "<class 'pandas.core.frame.DataFrame'>\n",
      "RangeIndex: 257673 entries, 0 to 257672\n",
      "Data columns (total 42 columns):\n",
      " #   Column             Non-Null Count   Dtype  \n",
      "---  ------             --------------   -----  \n",
      " 0   dur                257673 non-null  float64\n",
      " 1   proto              257673 non-null  float64\n",
      " 2   service            257673 non-null  float64\n",
      " 3   state              257673 non-null  float64\n",
      " 4   spkts              257673 non-null  int64  \n",
      " 5   dpkts              257673 non-null  int64  \n",
      " 6   sbytes             257673 non-null  int64  \n",
      " 7   dbytes             257673 non-null  int64  \n",
      " 8   rate               257673 non-null  float64\n",
      " 9   sttl               257673 non-null  int64  \n",
      " 10  dttl               257673 non-null  int64  \n",
      " 11  sload              257673 non-null  float64\n",
      " 12  dload              257673 non-null  float64\n",
      " 13  sloss              257673 non-null  int64  \n",
      " 14  dloss              257673 non-null  int64  \n",
      " 15  sinpkt             257673 non-null  float64\n",
      " 16  dinpkt             257673 non-null  float64\n",
      " 17  sjit               257673 non-null  float64\n",
      " 18  djit               257673 non-null  float64\n",
      " 19  swin               257673 non-null  int64  \n",
      " 20  stcpb              257673 non-null  int64  \n",
      " 21  dtcpb              257673 non-null  int64  \n",
      " 22  dwin               257673 non-null  int64  \n",
      " 23  tcprtt             257673 non-null  float64\n",
      " 24  synack             257673 non-null  float64\n",
      " 25  ackdat             257673 non-null  float64\n",
      " 26  smean              257673 non-null  int64  \n",
      " 27  dmean              257673 non-null  int64  \n",
      " 28  trans_depth        257673 non-null  int64  \n",
      " 29  response_body_len  257673 non-null  int64  \n",
      " 30  ct_srv_src         257673 non-null  int64  \n",
      " 31  ct_state_ttl       257673 non-null  int64  \n",
      " 32  ct_dst_ltm         257673 non-null  int64  \n",
      " 33  ct_src_dport_ltm   257673 non-null  int64  \n",
      " 34  ct_dst_sport_ltm   257673 non-null  int64  \n",
      " 35  ct_dst_src_ltm     257673 non-null  int64  \n",
      " 36  is_ftp_login       257673 non-null  int64  \n",
      " 37  ct_ftp_cmd         257673 non-null  int64  \n",
      " 38  ct_flw_http_mthd   257673 non-null  int64  \n",
      " 39  ct_src_ltm         257673 non-null  int64  \n",
      " 40  ct_srv_dst         257673 non-null  int64  \n",
      " 41  is_sm_ips_ports    257673 non-null  int64  \n",
      "dtypes: float64(14), int64(28)\n",
      "memory usage: 82.6 MB\n"
     ]
    }
   ],
   "source": [
    "X_all.info()"
   ]
  },
  {
   "cell_type": "code",
   "execution_count": 20,
   "id": "c32cc8f4",
   "metadata": {
    "execution": {
     "iopub.execute_input": "2025-06-10T20:22:31.028615Z",
     "iopub.status.busy": "2025-06-10T20:22:31.028128Z",
     "iopub.status.idle": "2025-06-10T20:22:31.298177Z",
     "shell.execute_reply": "2025-06-10T20:22:31.297204Z"
    },
    "papermill": {
     "duration": 0.277008,
     "end_time": "2025-06-10T20:22:31.299808",
     "exception": false,
     "start_time": "2025-06-10T20:22:31.022800",
     "status": "completed"
    },
    "tags": []
   },
   "outputs": [
    {
     "name": "stdout",
     "output_type": "stream",
     "text": [
      "Train label distribution: [ 74400 131738]\n",
      "Test label distribution: [18600 32935]\n",
      "Total samples: 257673\n",
      "Train: 206138 Test: 51535\n"
     ]
    }
   ],
   "source": [
    "from sklearn.model_selection import train_test_split\n",
    "\n",
    "# Let's say you want 70% training, 30% testing:\n",
    "X_train, X_test, y_train, y_test = train_test_split(\n",
    "    X_all_scaled,\n",
    "    y_all,\n",
    "    test_size=0.2,\n",
    "    random_state=42,\n",
    "    stratify=y_all    # <--- THIS ensures balanced labels\n",
    ")\n",
    "\n",
    "# Confirm balance:\n",
    "import numpy as np\n",
    "\n",
    "print(\"Train label distribution:\", np.bincount(y_train))\n",
    "print(\"Test label distribution:\", np.bincount(y_test))\n",
    "print(\"Total samples:\", len(y_all))\n",
    "print(\"Train:\", len(y_train), \"Test:\", len(y_test))\n"
   ]
  },
  {
   "cell_type": "code",
   "execution_count": 21,
   "id": "4d7805e7",
   "metadata": {
    "execution": {
     "iopub.execute_input": "2025-06-10T20:22:31.311626Z",
     "iopub.status.busy": "2025-06-10T20:22:31.311422Z",
     "iopub.status.idle": "2025-06-10T20:22:31.373369Z",
     "shell.execute_reply": "2025-06-10T20:22:31.372575Z"
    },
    "papermill": {
     "duration": 0.06915,
     "end_time": "2025-06-10T20:22:31.374687",
     "exception": false,
     "start_time": "2025-06-10T20:22:31.305537",
     "status": "completed"
    },
    "tags": []
   },
   "outputs": [],
   "source": [
    "# Save\n",
    "np.save('X_train.npy', X_train)\n",
    "np.save('X_test.npy', X_test)\n",
    "np.save('y_train.npy', y_train)\n",
    "np.save('y_test.npy', y_test)"
   ]
  },
  {
   "cell_type": "code",
   "execution_count": 22,
   "id": "4dd51117",
   "metadata": {
    "execution": {
     "iopub.execute_input": "2025-06-10T20:22:31.385150Z",
     "iopub.status.busy": "2025-06-10T20:22:31.384934Z",
     "iopub.status.idle": "2025-06-10T20:22:31.476853Z",
     "shell.execute_reply": "2025-06-10T20:22:31.476215Z"
    },
    "papermill": {
     "duration": 0.098335,
     "end_time": "2025-06-10T20:22:31.477933",
     "exception": false,
     "start_time": "2025-06-10T20:22:31.379598",
     "status": "completed"
    },
    "tags": []
   },
   "outputs": [
    {
     "data": {
      "text/plain": [
       "['y_test.joblib']"
      ]
     },
     "execution_count": 22,
     "metadata": {},
     "output_type": "execute_result"
    }
   ],
   "source": [
    "import joblib\n",
    "# Save\n",
    "joblib.dump(X_train, 'X_train.joblib')\n",
    "joblib.dump(X_test, 'X_test.joblib')\n",
    "joblib.dump(y_train, 'y_train.joblib')\n",
    "joblib.dump(y_test, 'y_test.joblib')"
   ]
  },
  {
   "cell_type": "code",
   "execution_count": 23,
   "id": "9e951aa3",
   "metadata": {
    "execution": {
     "iopub.execute_input": "2025-06-10T20:22:31.488558Z",
     "iopub.status.busy": "2025-06-10T20:22:31.488339Z",
     "iopub.status.idle": "2025-06-10T20:23:08.956102Z",
     "shell.execute_reply": "2025-06-10T20:23:08.955301Z"
    },
    "papermill": {
     "duration": 37.47873,
     "end_time": "2025-06-10T20:23:08.961713",
     "exception": false,
     "start_time": "2025-06-10T20:22:31.482983",
     "status": "completed"
    },
    "tags": []
   },
   "outputs": [
    {
     "data": {
      "text/plain": [
       "['rf_model.joblib']"
      ]
     },
     "execution_count": 23,
     "metadata": {},
     "output_type": "execute_result"
    }
   ],
   "source": [
    "from sklearn.ensemble import RandomForestClassifier\n",
    "from sklearn.metrics import classification_report, confusion_matrix, roc_auc_score\n",
    "import joblib\n",
    "\n",
    "# Train\n",
    "rf = RandomForestClassifier(n_estimators=100, random_state=42, class_weight='balanced')\n",
    "rf.fit(X_train, y_train)\n",
    "\n",
    "# Save model\n",
    "joblib.dump(rf, 'rf_model.joblib')"
   ]
  },
  {
   "cell_type": "code",
   "execution_count": 24,
   "id": "68d133a5",
   "metadata": {
    "execution": {
     "iopub.execute_input": "2025-06-10T20:23:08.972096Z",
     "iopub.status.busy": "2025-06-10T20:23:08.971870Z",
     "iopub.status.idle": "2025-06-10T20:23:10.297819Z",
     "shell.execute_reply": "2025-06-10T20:23:10.297239Z"
    },
    "papermill": {
     "duration": 1.332584,
     "end_time": "2025-06-10T20:23:10.299183",
     "exception": false,
     "start_time": "2025-06-10T20:23:08.966599",
     "status": "completed"
    },
    "tags": []
   },
   "outputs": [],
   "source": [
    "# Predict\n",
    "y_pred = rf.predict(X_test)\n",
    "y_proba = rf.predict_proba(X_test)[:, 1]"
   ]
  },
  {
   "cell_type": "code",
   "execution_count": 25,
   "id": "d7141fa0",
   "metadata": {
    "execution": {
     "iopub.execute_input": "2025-06-10T20:23:10.310186Z",
     "iopub.status.busy": "2025-06-10T20:23:10.309967Z",
     "iopub.status.idle": "2025-06-10T20:23:10.346078Z",
     "shell.execute_reply": "2025-06-10T20:23:10.345307Z"
    },
    "papermill": {
     "duration": 0.042557,
     "end_time": "2025-06-10T20:23:10.347119",
     "exception": false,
     "start_time": "2025-06-10T20:23:10.304562",
     "status": "completed"
    },
    "tags": []
   },
   "outputs": [
    {
     "name": "stdout",
     "output_type": "stream",
     "text": [
      "Random Forest Results\n",
      "[[17457  1143]\n",
      " [ 1248 31687]]\n",
      "              precision    recall  f1-score   support\n",
      "\n",
      "           0     0.9333    0.9385    0.9359     18600\n",
      "           1     0.9652    0.9621    0.9636     32935\n",
      "\n",
      "    accuracy                         0.9536     51535\n",
      "   macro avg     0.9492    0.9503    0.9498     51535\n",
      "weighted avg     0.9537    0.9536    0.9536     51535\n",
      "\n",
      "ROC AUC: 0.9925546212725946\n"
     ]
    }
   ],
   "source": [
    "# Evaluate\n",
    "print(\"Random Forest Results\")\n",
    "print(confusion_matrix(y_test, y_pred))\n",
    "print(classification_report(y_test, y_pred, digits=4))\n",
    "print(\"ROC AUC:\", roc_auc_score(y_test, y_proba))"
   ]
  },
  {
   "cell_type": "code",
   "execution_count": 26,
   "id": "dc010694",
   "metadata": {
    "execution": {
     "iopub.execute_input": "2025-06-10T20:23:10.357540Z",
     "iopub.status.busy": "2025-06-10T20:23:10.357338Z",
     "iopub.status.idle": "2025-06-10T20:23:10.363515Z",
     "shell.execute_reply": "2025-06-10T20:23:10.362681Z"
    },
    "papermill": {
     "duration": 0.012684,
     "end_time": "2025-06-10T20:23:10.364591",
     "exception": false,
     "start_time": "2025-06-10T20:23:10.351907",
     "status": "completed"
    },
    "tags": []
   },
   "outputs": [
    {
     "name": "stdout",
     "output_type": "stream",
     "text": [
      "[[17457  1143]\n",
      " [ 1248 31687]]\n"
     ]
    }
   ],
   "source": [
    "from sklearn.metrics import confusion_matrix\n",
    "\n",
    "cm = confusion_matrix(y_test, y_pred)\n",
    "print(cm)\n"
   ]
  },
  {
   "cell_type": "code",
   "execution_count": 27,
   "id": "79063278",
   "metadata": {
    "execution": {
     "iopub.execute_input": "2025-06-10T20:23:10.374899Z",
     "iopub.status.busy": "2025-06-10T20:23:10.374702Z",
     "iopub.status.idle": "2025-06-10T20:23:10.407000Z",
     "shell.execute_reply": "2025-06-10T20:23:10.406323Z"
    },
    "papermill": {
     "duration": 0.038571,
     "end_time": "2025-06-10T20:23:10.407980",
     "exception": false,
     "start_time": "2025-06-10T20:23:10.369409",
     "status": "completed"
    },
    "tags": []
   },
   "outputs": [
    {
     "name": "stdout",
     "output_type": "stream",
     "text": [
      "Accuracy: 0.9536043465605899\n",
      "Confusion Matrix:\n",
      " [[17457  1143]\n",
      " [ 1248 31687]]\n",
      "              precision    recall  f1-score   support\n",
      "\n",
      "           0     0.9333    0.9385    0.9359     18600\n",
      "           1     0.9652    0.9621    0.9636     32935\n",
      "\n",
      "    accuracy                         0.9536     51535\n",
      "   macro avg     0.9492    0.9503    0.9498     51535\n",
      "weighted avg     0.9537    0.9536    0.9536     51535\n",
      "\n",
      "ROC AUC: 0.9925546212725946\n"
     ]
    }
   ],
   "source": [
    "from sklearn.metrics import (\n",
    "    accuracy_score, confusion_matrix, classification_report, roc_auc_score\n",
    ")\n",
    "\n",
    "print(\"Accuracy:\", accuracy_score(y_test, y_pred))\n",
    "print(\"Confusion Matrix:\\n\", confusion_matrix(y_test, y_pred))\n",
    "print(classification_report(y_test, y_pred, digits=4))\n",
    "print(\"ROC AUC:\", roc_auc_score(y_test, y_proba))\n"
   ]
  }
 ],
 "metadata": {
  "kaggle": {
   "accelerator": "nvidiaTeslaT4",
   "dataSources": [
    {
     "datasetId": 7633525,
     "sourceId": 12122992,
     "sourceType": "datasetVersion"
    }
   ],
   "dockerImageVersionId": 31041,
   "isGpuEnabled": true,
   "isInternetEnabled": true,
   "language": "python",
   "sourceType": "notebook"
  },
  "kernelspec": {
   "display_name": "Python 3",
   "language": "python",
   "name": "python3"
  },
  "language_info": {
   "codemirror_mode": {
    "name": "ipython",
    "version": 3
   },
   "file_extension": ".py",
   "mimetype": "text/x-python",
   "name": "python",
   "nbconvert_exporter": "python",
   "pygments_lexer": "ipython3",
   "version": "3.11.11"
  },
  "papermill": {
   "default_parameters": {},
   "duration": 49.557356,
   "end_time": "2025-06-10T20:23:10.930488",
   "environment_variables": {},
   "exception": null,
   "input_path": "__notebook__.ipynb",
   "output_path": "__notebook__.ipynb",
   "parameters": {},
   "start_time": "2025-06-10T20:22:21.373132",
   "version": "2.6.0"
  }
 },
 "nbformat": 4,
 "nbformat_minor": 5
}
